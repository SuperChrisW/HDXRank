{
 "cells": [
  {
   "cell_type": "code",
   "execution_count": 4,
   "metadata": {},
   "outputs": [],
   "source": [
    "import pandas as pd \n",
    "import numpy as np\n",
    "import os"
   ]
  },
  {
   "cell_type": "code",
   "execution_count": 7,
   "metadata": {},
   "outputs": [
    {
     "name": "stdout",
     "output_type": "stream",
     "text": [
      "Index(['Unnamed: 0', 'PDB', 'chainID', 'type', 'start', 'end', 'len',\n",
      "       'pLDDT_mean', 'seq'],\n",
      "      dtype='object')\n",
      "(87, 9)\n"
     ]
    }
   ],
   "source": [
    "root_dir = '/Users/liyao/Desktop/Tsuda_Lab/Source_code/AI-HDX-main/HDX_MS_dataset/AF_model/AF_cutter/'\n",
    "df = pd.read_csv(root_dir + 'AFCT-OUT_summary.csv')\n",
    "print(df.columns)\n",
    "print(df.shape)"
   ]
  },
  {
   "cell_type": "code",
   "execution_count": 8,
   "metadata": {},
   "outputs": [
    {
     "name": "stdout",
     "output_type": "stream",
     "text": [
      "(40, 9)\n"
     ]
    }
   ],
   "source": [
    "filter_df = df[(df['pLDDT_mean'].astype(float) > 70)]\n",
    "filter_df = filter_df[(filter_df['len'] > 50) & (filter_df['type'] == 'domain')]\n",
    "print(filter_df.shape)"
   ]
  },
  {
   "cell_type": "code",
   "execution_count": null,
   "metadata": {},
   "outputs": [],
   "source": [
    "## rosseta relax ##\n",
    "flag_relax = '/Users/liyao/Desktop/Tsuda_Lab/Source_code/rosetta_src_2021.16.61629_bundle/main/demos/tutorials/input_and_output/flag_input_relax'\n",
    "os.environ['ROSETTA3'] = '/Users/liyao/Desktop/Tsuda_Lab/Source_code/rosetta_src_2021.16.61629_bundle/main/source/'\n",
    "os.chdir(root_dir)\n",
    "\n",
    "for index, row in filter_df.iterrows():\n",
    "    len = row['len']\n",
    "    pdb_id = row['PDB']\n",
    "    chain = row['chainID']\n",
    "    start = row['start']\n",
    "    end = row['end']\n",
    "\n",
    "    fname = f'{pdb_id}_AFCT-OUT_domain_{chain}{start}-{end}.pdb'\n",
    "    finish_file = fname.replace('.pdb', '_0001.pdb')\n",
    "\n",
    "    if os.path.exists(f'{root_dir}{finish_file}'):\n",
    "        print(f'{root_dir}{finish_file} already exists!')\n",
    "        continue\n",
    "    elif not os.path.exists(f'{root_dir}{fname}'):\n",
    "        print(f'{root_dir}{fname} does not exist!')\n",
    "        continue\n",
    "    print(fname)\n",
    "\n",
    "    pdb_fpath = os.path.join(root_dir, fname)\n",
    "    command = f'$ROSETTA3/bin/relax.default.macosclangrelease -in:file:s {pdb_fpath} @{flag_relax}'\n",
    "    os.system(command)\n",
    "    #break"
   ]
  },
  {
   "cell_type": "code",
   "execution_count": null,
   "metadata": {},
   "outputs": [],
   "source": [
    "from output_dssp import output_dssp\n",
    "\n",
    "PDB_file = '/Users/liyao/Desktop/Tsuda_Lab/Source_code/AI-HDX-main/complex_model/LptDEthanatin_complex_AF.pdb'\n",
    "#output_dssp('LptDE-thanatin', PDB_file, '/Users/liyao/Desktop/Tsuda_Lab/Source_code/AI-HDX-main/complex_model')\n",
    "\n",
    "lptDE_df = pd.read_excel('/Users/liyao/Desktop/Tsuda_Lab/Source_code/AI-HDX-main/dataset/LptD_Thanatin_LPS+Thanatin_State_SourceData_Fig3and4.xlsx')\n",
    "print(lptDE_df.columns)\n",
    "trim_LptDE_Apo = lptDE_df[(lptDE_df['Protein state'] == 'Apo') & (lptDE_df['HDX time (min)'] == 83.333)]\n",
    "trim_LptDE_Thanatin = lptDE_df[(lptDE_df['Protein state'] == 'Thanatin') & (lptDE_df['HDX time (min)'] == 83.333)]\n",
    "print(trim_LptDE_Apo.shape)\n",
    "print(trim_LptDE_Thanatin.shape)\n",
    "\n",
    "count = 0\n",
    "for trim_df in [trim_LptDE_Apo, trim_LptDE_Thanatin]:\n",
    "    count += 1\n",
    "    if \"MaxUptake\" not in trim_df.columns:\n",
    "        if 'Sequence' in trim_df.columns:\n",
    "            trim_df['MaxUptake'] = trim_df['Sequence'].apply(lambda x: len(x) - 1 - x.count('P'))\n",
    "            pass\n",
    "\n",
    "    trim_df['MaxUptake'] = trim_df['MaxUptake'].astype(int)\n",
    "    Uptake_columns = ['Uptake', 'Uptake (Da)', '#D']\n",
    "    back_exchange_rate = 0.7\n",
    "\n",
    "    for col in Uptake_columns:\n",
    "        if col in trim_df.columns:\n",
    "            trim_df['%D'] = trim_df[col] / (trim_df['MaxUptake'] * back_exchange_rate)\n",
    "            over_range_mask = trim_df['%D'] > 1\n",
    "            below_range_mask = trim_df['%D'] < 0\n",
    "            trim_df.loc[over_range_mask, '%D'] = 1\n",
    "            trim_df.loc[below_range_mask, '%D'] = 0\n",
    "    if count == 1:\n",
    "        fname = 'LptDE_Apo'\n",
    "    elif count == 2:\n",
    "        fname = 'LptDE_Thanatin'\n",
    "    trim_df.to_csv(f'/Users/liyao/Desktop/Tsuda_Lab/Source_code/AI-HDX-main/complex_model/{fname}.csv', index=False)"
   ]
  },
  {
   "cell_type": "code",
   "execution_count": 14,
   "metadata": {},
   "outputs": [
    {
     "ename": "IndexError",
     "evalue": "list index out of range",
     "output_type": "error",
     "traceback": [
      "\u001b[0;31m---------------------------------------------------------------------------\u001b[0m",
      "\u001b[0;31mIndexError\u001b[0m                                Traceback (most recent call last)",
      "\u001b[1;32m/Users/liyao/Desktop/Tsuda_Lab/Source_code/AI-HDX-main/ProteinComplex_HDX_prediction/script/rigid_analysis.ipynb Cell 6\u001b[0m line \u001b[0;36m8\n\u001b[1;32m      <a href='vscode-notebook-cell:/Users/liyao/Desktop/Tsuda_Lab/Source_code/AI-HDX-main/ProteinComplex_HDX_prediction/script/rigid_analysis.ipynb#X10sZmlsZQ%3D%3D?line=4'>5</a>\u001b[0m hhm_file \u001b[39m=\u001b[39m \u001b[39m'\u001b[39m\u001b[39mLptD.hhm\u001b[39m\u001b[39m'\u001b[39m\n\u001b[1;32m      <a href='vscode-notebook-cell:/Users/liyao/Desktop/Tsuda_Lab/Source_code/AI-HDX-main/ProteinComplex_HDX_prediction/script/rigid_analysis.ipynb#X10sZmlsZQ%3D%3D?line=6'>7</a>\u001b[0m os\u001b[39m.\u001b[39mchdir(root_dir)\n\u001b[0;32m----> <a href='vscode-notebook-cell:/Users/liyao/Desktop/Tsuda_Lab/Source_code/AI-HDX-main/ProteinComplex_HDX_prediction/script/rigid_analysis.ipynb#X10sZmlsZQ%3D%3D?line=7'>8</a>\u001b[0m generate_embedding(dssp_list[\u001b[39m0\u001b[39;49m], hhm_file, \u001b[39m'\u001b[39;49m\u001b[39mLptDE_Apo.embedding.txt\u001b[39;49m\u001b[39m'\u001b[39;49m)\n\u001b[1;32m      <a href='vscode-notebook-cell:/Users/liyao/Desktop/Tsuda_Lab/Source_code/AI-HDX-main/ProteinComplex_HDX_prediction/script/rigid_analysis.ipynb#X10sZmlsZQ%3D%3D?line=8'>9</a>\u001b[0m generate_embedding(dssp_list[\u001b[39m1\u001b[39m], hhm_file, \u001b[39m'\u001b[39m\u001b[39mLptDE_Thanatin.embedding.txt\u001b[39m\u001b[39m'\u001b[39m)\n",
      "File \u001b[0;32m~/Desktop/Tsuda_Lab/Source_code/AI-HDX-main/ProteinComplex_HDX_prediction/script/MSA_embedding.py:50\u001b[0m, in \u001b[0;36mgenerate_embedding\u001b[0;34m(hhm_file, dssp_file, output_file)\u001b[0m\n\u001b[1;32m     48\u001b[0m correction_value \u001b[39m=\u001b[39m \u001b[39m0\u001b[39m\n\u001b[1;32m     49\u001b[0m \u001b[39mfor\u001b[39;00m line \u001b[39min\u001b[39;00m df:\n\u001b[0;32m---> 50\u001b[0m     hhm_vector \u001b[39m=\u001b[39m []\n\u001b[1;32m     51\u001b[0m     \u001b[39mif\u001b[39;00m line\u001b[39m.\u001b[39mstartswith(\u001b[39m\"\u001b[39m\u001b[39mCorrection:\u001b[39m\u001b[39m\"\u001b[39m):\n\u001b[1;32m     52\u001b[0m         correction_value \u001b[39m=\u001b[39m line\u001b[39m.\u001b[39msplit(\u001b[39m'\u001b[39m\u001b[39m:\u001b[39m\u001b[39m'\u001b[39m)[\u001b[39m2\u001b[39m]\n",
      "\u001b[0;31mIndexError\u001b[0m: list index out of range"
     ]
    }
   ],
   "source": [
    "from MSA_embedding import generate_embedding\n",
    "import os\n",
    "\n",
    "root_dir = '/Users/liyao/Desktop/Tsuda_Lab/Source_code/AI-HDX-main/complex_model/'\n",
    "dssp_list = ['LptDE_Apo.dssp.txt', 'LptDE_Thanatin.dssp.txt']\n",
    "hhm_file = 'LptD.hhm'\n",
    "\n",
    "os.chdir(root_dir)\n",
    "generate_embedding(hhm_file, dssp_list[0], 'LptDE_Apo.embedding.txt')\n",
    "generate_embedding(hhm_file, dssp_list[1], 'LptDE_Thanatin.embedding.txt')"
   ]
  },
  {
   "cell_type": "code",
   "execution_count": null,
   "metadata": {},
   "outputs": [],
   "source": [
    "## run HBPLUS ##\n",
    "import os\n",
    "import shutil\n",
    "\n",
    "hbplus_dir = '/Users/liyao/Desktop/Tsuda_Lab/Source_code/hbplus/'\n",
    "PDB_dir = '/Users/liyao/Desktop/Tsuda_Lab/Source_code/AI-HDX-main/HDX_MS_dataset/AF_model/'\n",
    "os.environ['PATH'] += os.pathsep + hbplus_dir\n",
    "os.chdir(hbplus_dir)\n",
    "\n",
    "for file in os.listdir(PDB_dir):\n",
    "    target_file = f'{PDB_dir}AF_addH/{file.replace(\".pdb\", \".hb2\")}'\n",
    "    if os.path.isfile(target_file):\n",
    "        print(f'{target_file} already exists!')\n",
    "        continue\n",
    "    if file.endswith('.pdb'):\n",
    "        print(file)\n",
    "        command = f'hbplus -O {PDB_dir}{file}'\n",
    "        os.system(command)\n",
    "        src_path = f'{hbplus_dir}{file.replace(\".pdb\", \".hb2\")}'\n",
    "        dst_path = f'{PDB_dir}AF_addH/{file.replace(\".pdb\", \".hb2\")}'\n",
    "        shutil.move(src_path, dst_path)\n",
    "        src_path = f'{hbplus_dir}{file.replace(\".pdb\", \".h\")}'\n",
    "        dst_path = f'{PDB_dir}AF_addH/{file}'\n",
    "        shutil.move(src_path, dst_path)"
   ]
  },
  {
   "cell_type": "code",
   "execution_count": 25,
   "metadata": {},
   "outputs": [
    {
     "name": "stdout",
     "output_type": "stream",
     "text": [
      "(42, 9)\n"
     ]
    }
   ],
   "source": [
    "## run AF cutter ##\n",
    "\n",
    "import pandas as pd\n",
    "import os\n",
    "\n",
    "root_dir = '/Users/liyao/Desktop/Tsuda_Lab/Source_code/AI-HDX-main/HDX_MS_dataset/AF_model/AF_cutter/'\n",
    "df = pd.read_csv(root_dir + 'AFCT-OUT_summary.csv')\n",
    "\n",
    "filter_df = df[(df['pLDDT_mean'].astype(float) > 70)]\n",
    "filter_df = filter_df[(filter_df['len'] > 50) & (filter_df['type'] == 'domain')]\n",
    "print(filter_df.shape)"
   ]
  },
  {
   "cell_type": "code",
   "execution_count": null,
   "metadata": {},
   "outputs": [],
   "source": [
    "## run FIRST rigidity ##\n",
    "from RUN_FIRST import RUN_FIRST, copyfiles\n",
    "import os\n",
    "import shutil\n",
    "\n",
    "proflex_dir = '/Users/liyao/Desktop/Tsuda_Lab/Source_code/ProFlex-master/proflex/'\n",
    "PDB_dir = '/Users/liyao/Desktop/Tsuda_Lab/Source_code/AI-HDX-main/HDX_MS_dataset/AF_model/AF_addH/'\n",
    "dst_dir = '/Users/liyao/Desktop/Tsuda_Lab/Source_code/AI-HDX-main/HDX_MS_dataset/AF_model/AF_proflex/'\n",
    "count = 0\n",
    "\n",
    "for file in os.listdir(PDB_dir):\n",
    "    if file.endswith('.pdb'):\n",
    "        print(file)\n",
    "        file = file.replace('.pdb', '')\n",
    "\n",
    "        if not os.path.isfile(f'{dst_dir}decomp_{file}'):\n",
    "            with open(f'{PDB_dir}{file}.pdb', 'r') as f, open(f'{proflex_dir}{file}.pdb', 'w') as w:\n",
    "                for i in f:\n",
    "                    if i.startswith('ATOM'):\n",
    "                        w.write(i)\n",
    "            try:\n",
    "                RUN_FIRST(f'{file}.pdb', '-h')\n",
    "                copyfiles(file, proflex_dir, dst_dir)\n",
    "                count += 1\n",
    "            except:\n",
    "                print(f'{file} failed!')\n",
    "                continue\n",
    "        #break\n",
    "\n",
    "print(count)"
   ]
  },
  {
   "cell_type": "code",
   "execution_count": null,
   "metadata": {},
   "outputs": [],
   "source": [
    "## output residue dssp value ##\n",
    "from prot_rigidity import DSSP_calculation\n",
    "\n",
    "root_dir = '/Users/liyao/Desktop/Tsuda_Lab/Source_code/AI-HDX-main/HDX_MS_dataset/AF_model'\n",
    "\n",
    "DSSP_calculation(f'{root_dir}/AF_addH', f'{root_dir}/AF_dssp')"
   ]
  },
  {
   "cell_type": "code",
   "execution_count": 15,
   "metadata": {},
   "outputs": [
    {
     "ename": "FileNotFoundError",
     "evalue": "[Errno 2] No such file or directory: '/Users/liyao/Desktop/Tsuda_Lab/Source_code/AI-HDX-main/HDX_MS_dataset/AF_model/AF_dssp/P62873_AF/dssp_P62873_AF.txt'",
     "output_type": "error",
     "traceback": [
      "\u001b[0;31m---------------------------------------------------------------------------\u001b[0m",
      "\u001b[0;31mFileNotFoundError\u001b[0m                         Traceback (most recent call last)",
      "Cell \u001b[0;32mIn[15], line 6\u001b[0m\n\u001b[1;32m      2\u001b[0m \u001b[38;5;28;01mfrom\u001b[39;00m \u001b[38;5;21;01mprot_rigidity\u001b[39;00m \u001b[38;5;28;01mimport\u001b[39;00m ASSURR_flexibility\n\u001b[1;32m      4\u001b[0m root_dir \u001b[38;5;241m=\u001b[39m \u001b[38;5;124m'\u001b[39m\u001b[38;5;124m/Users/liyao/Desktop/Tsuda_Lab/Source_code/AI-HDX-main/HDX_MS_dataset/AF_model\u001b[39m\u001b[38;5;124m'\u001b[39m\n\u001b[0;32m----> 6\u001b[0m \u001b[43mASSURR_flexibility\u001b[49m\u001b[43m(\u001b[49m\u001b[38;5;124;43mf\u001b[39;49m\u001b[38;5;124;43m'\u001b[39;49m\u001b[38;5;132;43;01m{\u001b[39;49;00m\u001b[43mroot_dir\u001b[49m\u001b[38;5;132;43;01m}\u001b[39;49;00m\u001b[38;5;124;43m/AF_proflex\u001b[39;49m\u001b[38;5;124;43m'\u001b[39;49m\u001b[43m,\u001b[49m\u001b[43m \u001b[49m\u001b[38;5;124;43mf\u001b[39;49m\u001b[38;5;124;43m'\u001b[39;49m\u001b[38;5;132;43;01m{\u001b[39;49;00m\u001b[43mroot_dir\u001b[49m\u001b[38;5;132;43;01m}\u001b[39;49;00m\u001b[38;5;124;43m/AF_dssp\u001b[39;49m\u001b[38;5;124;43m'\u001b[39;49m\u001b[43m,\u001b[49m\u001b[43m \u001b[49m\u001b[38;5;124;43mf\u001b[39;49m\u001b[38;5;124;43m'\u001b[39;49m\u001b[38;5;132;43;01m{\u001b[39;49;00m\u001b[43mroot_dir\u001b[49m\u001b[38;5;132;43;01m}\u001b[39;49;00m\u001b[38;5;124;43m/AF_rigidity\u001b[39;49m\u001b[38;5;124;43m'\u001b[39;49m\u001b[43m)\u001b[49m\n",
      "File \u001b[0;32m~/Desktop/Tsuda_Lab/Source_code/AI-HDX-main/ProteinComplex_HDX_prediction/script/prot_rigidity.py:115\u001b[0m, in \u001b[0;36mASSURR_flexibility\u001b[0;34m(key, file_path, save_path)\u001b[0m\n\u001b[1;32m    113\u001b[0m     \u001b[38;5;28;01mreturn\u001b[39;00m \u001b[38;5;28;01mFalse\u001b[39;00m\n\u001b[1;32m    114\u001b[0m \u001b[38;5;28;01mfor\u001b[39;00m file \u001b[38;5;129;01min\u001b[39;00m os\u001b[38;5;241m.\u001b[39mlistdir(dssp_path):\n\u001b[0;32m--> 115\u001b[0m     PDB \u001b[38;5;241m=\u001b[39m file\u001b[38;5;241m.\u001b[39msplit(\u001b[38;5;124m'\u001b[39m\u001b[38;5;124m.\u001b[39m\u001b[38;5;124m'\u001b[39m)[\u001b[38;5;241m0\u001b[39m]\n\u001b[1;32m    116\u001b[0m     \u001b[38;5;28;01mif\u001b[39;00m PDB \u001b[38;5;241m==\u001b[39m \u001b[38;5;124m'\u001b[39m\u001b[38;5;124m'\u001b[39m: \u001b[38;5;28;01mcontinue\u001b[39;00m\n\u001b[1;32m    118\u001b[0m     ss_structure \u001b[38;5;241m=\u001b[39m []        \n",
      "\u001b[0;31mFileNotFoundError\u001b[0m: [Errno 2] No such file or directory: '/Users/liyao/Desktop/Tsuda_Lab/Source_code/AI-HDX-main/HDX_MS_dataset/AF_model/AF_dssp/P62873_AF/dssp_P62873_AF.txt'"
     ]
    }
   ],
   "source": [
    "## output residue ANSSURR rigidity ##\n",
    "from prot_rigidity import ASSURR_flexibility\n",
    "\n",
    "root_dir = '/Users/liyao/Desktop/Tsuda_Lab/Source_code/AI-HDX-main/HDX_MS_dataset/AF_model'\n",
    "\n",
    "ASSURR_flexibility(f'{root_dir}/AF_proflex', f'{root_dir}/AF_dssp', f'{root_dir}/AF_rigidity')"
   ]
  }
 ],
 "metadata": {
  "kernelspec": {
   "display_name": "liyao_env",
   "language": "python",
   "name": "python3"
  },
  "language_info": {
   "codemirror_mode": {
    "name": "ipython",
    "version": 3
   },
   "file_extension": ".py",
   "mimetype": "text/x-python",
   "name": "python",
   "nbconvert_exporter": "python",
   "pygments_lexer": "ipython3",
   "version": "3.11.6"
  }
 },
 "nbformat": 4,
 "nbformat_minor": 2
}
