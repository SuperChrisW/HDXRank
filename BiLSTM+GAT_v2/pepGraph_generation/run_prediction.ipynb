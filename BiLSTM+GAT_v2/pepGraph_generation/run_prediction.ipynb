{
 "cells": [
  {
   "cell_type": "code",
   "execution_count": 2,
   "metadata": {},
   "outputs": [],
   "source": [
    "import torch\n",
    "import torch.nn as nn\n",
    "import torch.nn.functional as F\n",
    "from torchdrug import data\n",
    "\n",
    "from scipy.stats import pearsonr, spearmanr\n",
    "import matplotlib.pyplot as plt\n",
    "from sklearn.metrics import mean_absolute_error, mean_squared_error\n",
    "from math import sqrt\n",
    "import numpy as np\n",
    "\n",
    "from GearNet import GearNet\n",
    "from pepGraph_model import BiLSTM, MixBiLSTM_GearNet\n",
    "import matplotlib.pyplot as plt"
   ]
  },
  {
   "cell_type": "code",
   "execution_count": 27,
   "metadata": {},
   "outputs": [],
   "source": [
    "def test_model(model, test_loader, device):\n",
    "    y_pred = []\n",
    "    y_true = []\n",
    "    range_list = []\n",
    "    chain_list = []\n",
    "    model.eval()\n",
    "    for i, graph_batch in enumerate(test_loader):\n",
    "        graph_batch = graph_batch.to(device)\n",
    "        targets = graph_batch.y\n",
    "        outputs = model(graph_batch, graph_batch.residue_feature.float())\n",
    "        #outputs = model(graph_batch)\n",
    "        #outputs = model(graph_batch.seq_embedding)\n",
    "        #range_list.extend(graph_batch.range.cpu().detach().numpy())\n",
    "        #chain_list.extend(graph_batch.chain)\n",
    "\n",
    "        y_pred.append(outputs.cpu().detach().numpy())\n",
    "        y_true.append(targets.cpu().detach().numpy())\n",
    "    y_pred = np.concatenate(y_pred, axis=0)\n",
    "    y_true = np.concatenate(y_true, axis=0)\n",
    "    return y_true, y_pred, range_list, chain_list\n",
    "\n",
    "def plot_results(y_true, y_pred):\n",
    "    plt.scatter(y_true, y_pred, s=1)\n",
    "    plt.plot([0, 1], [0, 1], color=\"red\", linestyle=\"--\")\n",
    "    pcc = pearsonr(y_true, y_pred)[0]\n",
    "    spR = spearmanr(y_true, y_pred)[0]\n",
    "    plt.legend([\"PCC: %.3f\" % pcc, \"SPR: %.3f\" % spR], loc=\"upper left\")\n",
    "    plt.xlabel(\"True\")\n",
    "    plt.ylabel(\"Predicted\")\n",
    "    plt.show()"
   ]
  },
  {
   "cell_type": "code",
   "execution_count": 4,
   "metadata": {},
   "outputs": [],
   "source": [
    "config = {\n",
    "        'num_epochs':150,\n",
    "        'batch_size': 16,\n",
    "        'learning_rate': 0.001,\n",
    "        'weight_decay': 5e-4,\n",
    "        'GNN_type': 'GAT',\n",
    "        'num_GNN_layers': 3,\n",
    "        'cross_validation_num': 1,\n",
    "        'num_workers': 4,\n",
    "}\n",
    "\n",
    "training_args = {'num_hidden_channels': 10, 'num_out_channels': 20, \n",
    "\n",
    "        'feat_in_dim': 56, 'topo_in_dim': 42, 'num_heads': 8, 'GNN_hidden_dim': 32,\n",
    "        'GNN_out_dim': 64, 'LSTM_out_dim': 64,\n",
    "\n",
    "        'final_hidden_dim': 16,\n",
    "\n",
    "        'drop_out': 0.5, 'num_GNN_layers': config['num_GNN_layers'], 'GNN_type': config['GNN_type'],\n",
    "        'graph_hop': 'hop1', 'batch_size': config['batch_size'],\n",
    "        'result_dir': '/home/lwang/models/HDX_LSTM/results/240601_finalExp',\n",
    "        'data_log': True,\n",
    "}"
   ]
  },
  {
   "cell_type": "code",
   "execution_count": 31,
   "metadata": {},
   "outputs": [],
   "source": [
    "device = torch.device('cuda:0' if torch.cuda.is_available() else 'cpu')\n",
    "cluster = 'cluster1'\n",
    "model_name = 'GearNet'\n",
    "model_fpath = f'/home/lwang/models/HDX_LSTM/results/240601_finalExp/model_{model_name}_epoch150_{cluster}.pth'\n",
    "\n",
    "test_apo = torch.load(f'/home/lwang/models/HDX_LSTM/data/Latest_set/graph_ensemble_GearNetEdge/{cluster}/test_apo.pt')\n",
    "test_complex = torch.load(f'/home/lwang/models/HDX_LSTM/data/Latest_set/graph_ensemble_GearNetEdge/{cluster}/test_complex.pt')\n",
    "\n",
    "#GearNet\n",
    "model = GearNet(input_dim = 56+42, hidden_dims = [512,512,512],\n",
    "                num_relation=7, batch_norm=True, concat_hidden=True, readout='sum', activation = 'relu', short_cut=True)\n",
    "\n",
    "#GearNet-Edge\n",
    "#model = GearNet(input_dim=56+42, hidden_dims=[512, 512, 512], \n",
    "#                num_relation=7, edge_input_dim=59, num_angle_bin=8,\n",
    "#                batch_norm=True, concat_hidden=True, short_cut=True, readout=\"sum\", activation = 'relu').to(device)\n",
    "\n",
    "#BiLSTM\n",
    "#model = BiLSTM(training_args).to(device)\n",
    "\n",
    "#MixBiLSTM_GearNet or GearNetEdge\n",
    "#model = MixBiLSTM_GearNet(training_args).to(device)\n",
    "\n",
    "#MixBiLSTM_GVP\n",
    "\n",
    "model_state_dict = torch.load(model_fpath, map_location=device)\n",
    "model.load_state_dict(model_state_dict)\n",
    "model = model.to(device)"
   ]
  },
  {
   "cell_type": "code",
   "execution_count": 32,
   "metadata": {},
   "outputs": [],
   "source": [
    "apo_dataloader = data.DataLoader(test_apo, batch_size=16, shuffle=False)\n",
    "complex_dataloader = data.DataLoader(test_complex, batch_size=16, shuffle=False)\n",
    "total_set = data.Protein.pack(list(test_apo) + list(test_complex))\n",
    "total_dataloader = data.DataLoader(total_set, batch_size=16, shuffle=False)"
   ]
  },
  {
   "cell_type": "code",
   "execution_count": 35,
   "metadata": {},
   "outputs": [
    {
     "name": "stdout",
     "output_type": "stream",
     "text": [
      "(1420,) (1420,)\n",
      "PCC: 0.8050080474128625, SPR: 0.804118834347377\n"
     ]
    }
   ],
   "source": [
    "\n",
    "y_true, y_pred, range_list, chain_list = test_model(model, total_dataloader, device)\n",
    "print(y_true.shape, y_pred.shape)\n",
    "pcc = pearsonr(y_true, y_pred)[0]\n",
    "spR = spearmanr(y_true, y_pred)[0]\n",
    "print(f'PCC: {pcc}, SPR: {spR}')"
   ]
  }
 ],
 "metadata": {
  "kernelspec": {
   "display_name": "py3.9",
   "language": "python",
   "name": "python3"
  },
  "language_info": {
   "codemirror_mode": {
    "name": "ipython",
    "version": 3
   },
   "file_extension": ".py",
   "mimetype": "text/x-python",
   "name": "python",
   "nbconvert_exporter": "python",
   "pygments_lexer": "ipython3",
   "version": "3.9.19"
  }
 },
 "nbformat": 4,
 "nbformat_minor": 2
}
