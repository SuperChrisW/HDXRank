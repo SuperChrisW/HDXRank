{
 "cells": [
  {
   "cell_type": "code",
   "execution_count": 2,
   "metadata": {},
   "outputs": [
    {
     "ename": "ModuleNotFoundError",
     "evalue": "No module named 'PDB_download'",
     "output_type": "error",
     "traceback": [
      "\u001b[0;31m---------------------------------------------------------------------------\u001b[0m",
      "\u001b[0;31mModuleNotFoundError\u001b[0m                       Traceback (most recent call last)",
      "Cell \u001b[0;32mIn[2], line 3\u001b[0m\n\u001b[1;32m      1\u001b[0m \u001b[38;5;28;01mimport\u001b[39;00m \u001b[38;5;21;01mos\u001b[39;00m\n\u001b[1;32m      2\u001b[0m \u001b[38;5;28;01mimport\u001b[39;00m \u001b[38;5;21;01mpandas\u001b[39;00m \u001b[38;5;28;01mas\u001b[39;00m \u001b[38;5;21;01mpd\u001b[39;00m\n\u001b[0;32m----> 3\u001b[0m \u001b[38;5;28;01mfrom\u001b[39;00m \u001b[38;5;21;01mPDB_download\u001b[39;00m \u001b[38;5;28;01mimport\u001b[39;00m get_AFmodel, get_pdbModel\n\u001b[1;32m      4\u001b[0m \u001b[38;5;28;01mimport\u001b[39;00m \u001b[38;5;21;01mmatplotlib\u001b[39;00m\u001b[38;5;21;01m.\u001b[39;00m\u001b[38;5;21;01mpyplot\u001b[39;00m \u001b[38;5;28;01mas\u001b[39;00m \u001b[38;5;21;01mplt\u001b[39;00m\n\u001b[1;32m      5\u001b[0m \u001b[38;5;28;01mimport\u001b[39;00m \u001b[38;5;21;01mnumpy\u001b[39;00m \u001b[38;5;28;01mas\u001b[39;00m \u001b[38;5;21;01mnp\u001b[39;00m\n",
      "\u001b[0;31mModuleNotFoundError\u001b[0m: No module named 'PDB_download'"
     ]
    }
   ],
   "source": [
    "import os\n",
    "import pandas as pd\n",
    "from PDB_download import get_AFmodel, get_pdbModel\n",
    "import matplotlib.pyplot as plt\n",
    "import numpy as np\n",
    "from Bio import PDB\n",
    "from Bio.PDB.Polypeptide import protein_letters_3to1"
   ]
  },
  {
   "cell_type": "code",
   "execution_count": 7,
   "metadata": {},
   "outputs": [
    {
     "data": {
      "text/html": [
       "<table border=\"1\" class=\"dataframe\">\n",
       "  <thead>\n",
       "    <tr style=\"text-align: right;\">\n",
       "      <th></th>\n",
       "      <th>hugo_name</th>\n",
       "      <th>uniprot_id</th>\n",
       "      <th>structure_id</th>\n",
       "      <th>coverage</th>\n",
       "      <th>experimental_method</th>\n",
       "      <th>resolution</th>\n",
       "      <th>r_free</th>\n",
       "      <th>complex_protein</th>\n",
       "      <th>complex_nucleotide</th>\n",
       "      <th>complex_ligand</th>\n",
       "      <th>complex_ligand_details</th>\n",
       "      <th>mutations_in_pdb</th>\n",
       "    </tr>\n",
       "  </thead>\n",
       "  <tbody>\n",
       "    <tr>\n",
       "      <th>9</th>\n",
       "      <td>PXD013001</td>\n",
       "      <td>Q99627</td>\n",
       "      <td>6R7F</td>\n",
       "      <td>{'H': '[(11, 165);(197, 209)]'}</td>\n",
       "      <td>ELECTRON MICROSCOPY</td>\n",
       "      <td>8.2</td>\n",
       "      <td>NA</td>\n",
       "      <td>protein complex</td>\n",
       "      <td>NA</td>\n",
       "      <td>NA</td>\n",
       "      <td>NA</td>\n",
       "      <td>NA</td>\n",
       "    </tr>\n",
       "    <tr>\n",
       "      <th>11</th>\n",
       "      <td>PXD013001</td>\n",
       "      <td>Q99627</td>\n",
       "      <td>6R7H</td>\n",
       "      <td>{'H': '[(11, 165);(196, 209)]'}</td>\n",
       "      <td>ELECTRON MICROSCOPY</td>\n",
       "      <td>8.8</td>\n",
       "      <td>NA</td>\n",
       "      <td>protein complex</td>\n",
       "      <td>NA</td>\n",
       "      <td>NA</td>\n",
       "      <td>NA</td>\n",
       "      <td>NA</td>\n",
       "    </tr>\n",
       "    <tr>\n",
       "      <th>0</th>\n",
       "      <td>PXD013001</td>\n",
       "      <td>Q99627</td>\n",
       "      <td>AF-Q99627-F1-model_v4</td>\n",
       "      <td>{'A': '[(12, 167);(192, 209)]'}</td>\n",
       "      <td>PREDICTED</td>\n",
       "      <td>NaN</td>\n",
       "      <td>NA</td>\n",
       "      <td>NA</td>\n",
       "      <td>NA</td>\n",
       "      <td>NA</td>\n",
       "      <td>NA</td>\n",
       "      <td>NA</td>\n",
       "    </tr>\n",
       "  </tbody>\n",
       "</table>"
      ],
      "text/plain": [
       "<IPython.core.display.HTML object>"
      ]
     },
     "metadata": {},
     "output_type": "display_data"
    },
    {
     "name": "stdout",
     "output_type": "stream",
     "text": [
      "Q99627\n",
      "sequence length: 209\n"
     ]
    },
    {
     "data": {
      "image/png": "[encoded data removed]",
      "text/plain": [
       "<Figure size 800x200 with 1 Axes>"
      ]
     },
     "metadata": {},
     "output_type": "display_data"
    },
    {
     "name": "stdout",
     "output_type": "stream",
     "text": [
      "Low Confidence Ranges:\n",
      "[(0, 10), (167, 189)]\n"
     ]
    }
   ],
   "source": [
    "from pandas.plotting import table\n",
    "from IPython.display import display, HTML\n",
    "\n",
    "root_dir = '/Users/liyao/Desktop/Tsuda_Lab/Source_code/PDBminer/results'\n",
    "folder_list = os.listdir(root_dir)\n",
    "AF_model_list = []\n",
    "uni_id = 'Q99627'\n",
    "subset = ['hugo_name', 'uniprot_id', 'structure_id', 'coverage', 'experimental_method', 'resolution', 'r_free', \\\n",
    "          'complex_protein', 'complex_nucleotide', 'complex_ligand', \\\n",
    "          'complex_ligand_details', 'mutations_in_pdb']\n",
    "\n",
    "for folder in folder_list:\n",
    "    if not folder == uni_id:\n",
    "        continue\n",
    "\n",
    "    filename = f'{folder}_all.json'\n",
    "    filepath = os.path.join(root_dir, folder, filename)\n",
    "\n",
    "    if os.path.isfile(filepath):\n",
    "        df = pd.read_json(filepath)\n",
    "\n",
    "        df['resolution'] = pd.to_numeric(df['resolution'], errors='coerce')        \n",
    "        #df = df[(df['resolution'].astype(float)<3.0) & (df['experimental_method']=='X-RAY DIFFRACTION')]\n",
    "\n",
    "        #df = df[(df['mutations_in_pdb']=='NA') & (df['complex_nucleotide']=='NA') & (df['complex_protein']=='NA')]\n",
    "        df = df[(df['mutations_in_pdb']=='NA') & (df['complex_ligand']=='NA')]\n",
    "        #df = df[(df['mutations_in_pdb']=='NA')]\n",
    "\n",
    "        df = df[subset]\n",
    "\n",
    "        df = df.sort_values(by=['resolution'])\n",
    "        display(HTML(df.to_html()))   \n",
    "    break\n",
    "\n",
    "root_dir = '/home/lwang/models/HDOCKlite-v1.1/'\n",
    "filename = f'VH16VL104_rank1.pdb'\n",
    "filepath = os.path.join(root_dir, folder, filename)\n",
    "\n",
    "def parse_pdb(filepath):\n",
    "    parser = PDB.PDBParser()\n",
    "    structure = parser.get_structure('AF_structure', filepath)\n",
    "    sequence = []\n",
    "    plddt_scores = []\n",
    "    for model in structure:\n",
    "        for chain in model:\n",
    "            for residue in chain:\n",
    "                if PDB.is_aa(residue):\n",
    "                    plddt_scores.append(residue['CA'].get_bfactor())  # Assuming pLDDT in B-factor column\n",
    "    return plddt_scores\n",
    "\n",
    "# Check if the file exists and parse it\n",
    "if os.path.isfile(filepath):\n",
    "    plddt_scores = parse_pdb(filepath)\n",
    "    print(uni_id)\n",
    "    print('sequence length:', len(plddt_scores))\n",
    "\n",
    "    # Plot pLDDT along the sequence\n",
    "    plt.figure(figsize=(8, 2))\n",
    "    plt.plot(range(1,len(plddt_scores)+1), plddt_scores)\n",
    "    plt.xlabel('Sequence')\n",
    "    plt.ylabel('pLDDT')\n",
    "    plt.title('pLDDT along the Sequence')\n",
    "    plt.axhline(y=70, color='red', linestyle='--')\n",
    "    plt.show()\n",
    "\n",
    "    plddt_scores = np.array(plddt_scores)\n",
    "    low_confidence = np.where(plddt_scores < 70)[0]\n",
    "    low_confidence_ranges = []\n",
    "    if len(low_confidence) > 0:\n",
    "        start = low_confidence[0]\n",
    "        end = low_confidence[0]\n",
    "        for i in range(1, len(low_confidence)):\n",
    "            if low_confidence[i] == end + 1:\n",
    "                end = low_confidence[i]\n",
    "            else:\n",
    "                low_confidence_ranges.append((start, end))\n",
    "                start = low_confidence[i]\n",
    "                end = low_confidence[i]\n",
    "        low_confidence_ranges.append((start, end))\n",
    "\n",
    "        print('Low Confidence Ranges:')\n",
    "        print(low_confidence_ranges)\n",
    "    else:\n",
    "        print('No low confidence regions found.')\n",
    "\n",
    "else:\n",
    "    print(\"File not found.\")"
   ]
  },
  {
   "cell_type": "code",
   "execution_count": 14,
   "metadata": {},
   "outputs": [
    {
     "name": "stdout",
     "output_type": "stream",
     "text": [
      "sequence length: 195\n",
      "average pLDDT: 82.12148717948718\n"
     ]
    },
    {
     "data": {
      "image/png": "[encoded data removed]",
      "text/plain": [
       "<Figure size 800x400 with 1 Axes>"
      ]
     },
     "metadata": {},
     "output_type": "display_data"
    }
   ],
   "source": [
    "import os\n",
    "import numpy as np\n",
    "from Bio import PDB\n",
    "import matplotlib.pyplot as plt\n",
    "\n",
    "root_dir = '/home/lwang/models/HDOCKlite-v1.1/'\n",
    "filename = f'VH16VL104_rank1.pdb'\n",
    "filepath = os.path.join(root_dir, filename)\n",
    "\n",
    "def parse_pdb(filepath):\n",
    "    parser = PDB.PDBParser()\n",
    "    structure = parser.get_structure('AF_structure', filepath)\n",
    "    sequence = []\n",
    "    plddt_scores = []\n",
    "    for model in structure:\n",
    "        for chain in model:\n",
    "            for residue in chain:\n",
    "                if PDB.is_aa(residue):\n",
    "                    plddt_scores.append(residue['CA'].get_bfactor())  # Assuming pLDDT in B-factor column\n",
    "    return plddt_scores\n",
    "\n",
    "# Check if the file exists and parse it\n",
    "if os.path.isfile(filepath):\n",
    "    plddt_scores = parse_pdb(filepath)\n",
    "    print('sequence length:', len(plddt_scores))\n",
    "    print('average pLDDT:', np.mean(plddt_scores))\n",
    "\n",
    "    # Plot pLDDT along the sequence\n",
    "    plt.figure(figsize=(8, 4))\n",
    "    plt.plot(range(1,len(plddt_scores)+1), plddt_scores)\n",
    "    plt.axvline(x=101, color='k', linestyle='--', linewidth=1, alpha=0.8)\n",
    "    plt.xlabel('Sequence')\n",
    "    plt.ylabel('pLDDT')\n",
    "    plt.title('pLDDT along the Sequence')\n",
    "    #plt.axhline(y=82.1, color='red', label = 'mean pLDDT', linestyle='--', alpha = 0.5)\n",
    "    #plt.legend()\n",
    "    plt.savefig('/home/lwang/models/HDX_LSTM/results/240411_BiLSTMGAT_v2_1/V16noext_pLDDT.png')"
   ]
  },
  {
   "cell_type": "code",
   "execution_count": null,
   "metadata": {},
   "outputs": [],
   "source": [
    "### output low confidence regions to excel file  ###\n",
    "\n",
    "root_dir = '/Users/liyao/Desktop/Tsuda_Lab/Source_code/AI-HDX-main/HDX_MS_dataset/database_collection'\n",
    "apo_df = pd.read_excel(f'{root_dir}/merged_apo.xlsx', sheet_name='Sheet1')\n",
    "\n",
    "for index, row in apo_df.iterrows():\n",
    "    folder = row['database_id'].strip()\n",
    "    uni_id = row['match_uni'].strip()\n",
    "    print(index, folder, uni_id)\n",
    "\n",
    "    AF_dir = f'{root_dir}/feature/structure/'\n",
    "    filename = f'AF-{uni_id}-F1-model_v4.pdb'\n",
    "    filepath = os.path.join(AF_dir, uni_id, filename)\n",
    "    \n",
    "    plddt_scores = parse_pdb(filepath)\n",
    "    \n",
    "    plddt_scores = np.array(plddt_scores)\n",
    "    low_confidence = np.where(plddt_scores < 70)[0]\n",
    "    low_confidence_ranges = []\n",
    "    if len(low_confidence) > 0:\n",
    "        start = low_confidence[0]\n",
    "        end = low_confidence[0]\n",
    "        for i in range(1, len(low_confidence)):\n",
    "            if low_confidence[i] == end + 1:\n",
    "                end = low_confidence[i]\n",
    "            else:\n",
    "                low_confidence_ranges.append((start, end))\n",
    "                start = low_confidence[i]\n",
    "                end = low_confidence[i]\n",
    "        low_confidence_ranges.append((start, end))\n",
    "    \n",
    "    apo_df.loc[index, 'low_confidence_ranges'] = str(low_confidence_ranges)\n",
    "\n",
    "apo_df.to_excel(f'{root_dir}/merged_apo_modified.xlsx', sheet_name='Sheet1', index=False)"
   ]
  },
  {
   "cell_type": "code",
   "execution_count": null,
   "metadata": {},
   "outputs": [],
   "source": [
    "### mutation modelling ###\n",
    "\n",
    "from predataprocess import get_pdb_seq, mut_seq, mutseq_align, single_model\n",
    "from Bio import PDB\n",
    "import shutil\n",
    "\n",
    "root_dir = '/Users/liyao/Desktop/Tsuda_Lab/Source_code/AI-HDX-main/HDX_MS_dataset/database_collection'\n",
    "apo_df = pd.read_excel(f'{root_dir}/merged_apo.xlsx', sheet_name='Sheet1')\n",
    "\n",
    "apo_df = apo_df.dropna(subset=['mutation'])\n",
    "print(apo_df.shape)\n",
    "AF_dir = f'{root_dir}/feature/structure/'\n",
    "\n",
    "for index, row in apo_df.iterrows():\n",
    "    folder = row['database_id'].strip()\n",
    "    uni_id = row['match_uni'].strip()\n",
    "    mutation = row['mutation'].strip().split('/')\n",
    "    filepath = os.path.join(AF_dir, uni_id, f'AF-{uni_id}-F1-model_v4_Hplus.pdb')\n",
    "    print(index, folder, uni_id, mutation)\n",
    "    \n",
    "    mutate_id = int(mutation[0][1:-1])-1\n",
    "    if os.path.isfile(filepath):\n",
    "        parser = PDB.PDBParser()\n",
    "        structure = parser.get_structure('AF_structure', filepath)\n",
    "        sequence, residue_indices = get_pdb_seq(structure)\n",
    "\n",
    "        mutated_sequence = mut_seq(residue_indices, mutation)\n",
    "        if mutated_sequence:\n",
    "            print(sequence[mutate_id], '->', mutated_sequence[mutate_id])\n",
    "            pass\n",
    "        else:\n",
    "            mutated_sequence = 'M'+sequence \n",
    "\n",
    "        PDB_seq = [sequence, mutated_sequence]\n",
    "        info = [uni_id, mutation[0],'','','A','A']\n",
    "        mutseq_align(PDB_seq, 0, directory=f'{root_dir}/feature/alignment',info=info)\n",
    "\n",
    "        #shutil.copyfile(filepath, f'{root_dir}/feature/structure/{uni_id}/{uni_id}.pdb')\n",
    "        shutil.copyfile(f'{root_dir}/feature/alignment/alignment_{uni_id}_{mutation[0]}.ali', f'{root_dir}/feature/structure/{uni_id}/alignment_{uni_id}_{mutation[0]}.ali')\n",
    "        single_model(uni_id, mutation[0], dst_dir=f'{root_dir}/feature/structure/{uni_id}')\n"
   ]
  },
  {
   "cell_type": "code",
   "execution_count": 20,
   "metadata": {},
   "outputs": [
    {
     "name": "stdout",
     "output_type": "stream",
     "text": [
      "(77, 18)\n",
      "0 JACS_ADA P03958 nan\n",
      "1 MSV000086658 P29317 nan\n",
      "2 MSV000088425 P00734 nan\n",
      "3 MSV000088648 Q9UKV8 nan\n",
      "4 MSV000090611 P00749 nan\n",
      "5 MSV000090815 P08571 nan\n",
      "7 PXD010586 P62491 nan\n",
      "8 PXD010586 O60239 nan\n",
      "9 PXD010586 O60239 nan\n",
      "10 PXD011914 B5BTR7 nan\n",
      "11 PXD013001 P61201 nan\n",
      "12 PXD013001 Q9BT78 nan\n",
      "13 PXD013001 Q13098 nan\n",
      "14 PXD013001 Q13617 nan\n",
      "15 PXD013001 P40337 nan\n",
      "16 PXD013001 Q15370 nan\n",
      "17 PXD013001 Q13098 nan\n",
      "18 PXD013001 P61201 nan\n",
      "19 PXD013001 Q9UNS2 nan\n",
      "20 PXD013001 Q9BT78 nan\n",
      "22 PXD013001 Q7L5N1 nan\n",
      "23 PXD013001 Q9H9Q2 nan\n",
      "24 PXD013001 Q99627 nan\n",
      "25 PXD013001 Q13617 nan\n",
      "26 PXD013001 Q15370 nan\n",
      "27 PXD013001 Q15369 nan\n",
      "28 PXD013001 P62877 nan\n",
      "29 PXD013001 P40337 nan\n",
      "30 PXD013051 Q9P2K8 nan\n",
      "31 PXD013841 Q7K4Y6 nan\n",
      "32 PXD015778 Q96B36 nan\n",
      "33 PXD015778 Q8N122 nan\n",
      "36 PXD017095 Q93034 nan\n",
      "37 PXD017095 Q9UBF6 nan\n",
      "38 PXD017156 O95376 nan\n",
      "40 PXD018028 Q1D489 nan\n",
      "41 PXD019047 P31224 nan\n",
      "42 PXD019199 P80075 nan\n",
      "44 PXD019367 P62873 nan\n",
      "45 PXD019367 P59768 nan\n",
      "46 PXD019367 P09471 nan\n",
      "47 PXD019530 Q15648 nan\n",
      "48 PXD019810 P19793 nan\n",
      "49 PXD019810 P11473 nan\n",
      "50 PXD019884 A0A0E4B1P1 nan\n",
      "51 PXD019884 S5FWF8 nan\n",
      "52 PXD019884 Q5F4T5 nan\n",
      "54 PXD020890 Q9Y5R8 nan\n",
      "55 PXD020890 P48553 nan\n",
      "56 PXD020890 P0DI81 nan\n",
      "57 PXD020890 Q9UL33 nan\n",
      "58 PXD020890 O43617 nan\n",
      "59 PXD020890 Q9Y296 nan\n",
      "60 PXD020890 Q8IUR0 nan\n",
      "61 PXD020890 O75865 nan\n",
      "62 PXD020890 Q96Q05 nan\n",
      "63 PXD021132 P48736 nan\n",
      "64 PXD021266 P02647 nan\n",
      "65 PXD021743 C4T9I0 nan\n",
      "66 PXD021743 A0A377XQM7 nan\n",
      "67 PXD022172 Q14693 nan\n",
      "68 PXD023434 P38772 nan\n",
      "69 PXD023434 P40161 nan\n",
      "70 PXD025300 P0A9D4 nan\n",
      "71 PXD025300 P0ABK5 nan\n",
      "72 PXD025717 O60664 nan\n",
      "73 PXD026458 Q08722 nan\n",
      "74 PXD045520 Q99972 nan\n",
      "75 PXD042971 Q08345 nan\n"
     ]
    }
   ],
   "source": [
    "root_dir = '/Users/liyao/Desktop/Tsuda_Lab/Source_code/AI-HDX-main/HDX_MS_dataset/database_collection'\n",
    "\n",
    "apo_df = pd.read_excel(f'{root_dir}/merged_apo.xlsx', sheet_name='Sheet1')\n",
    "#apo_df = apo_df.loc[(apo_df['modification'] != 'monomer') & (apo_df['modification'] != 'nk')]\n",
    "print(apo_df.shape)\n",
    "\n",
    "#display(apo_df.loc[:, ['database_id', 'protein', 'state', 'match_uni', 'modification', 'mutation', 'truncation']])\n",
    "\n",
    "for index, row in apo_df.iterrows():\n",
    "    folder = row['database_id'].strip()\n",
    "    uni_id = row['match_uni'].strip()\n",
    "    mutation = row['mutation']\n",
    "    modification = row['modification'].strip()\n",
    "\n",
    "    if mutation == '' or pd.isna(mutation):\n",
    "        print(index, folder, uni_id, mutation)\n",
    "        if modification == 'monomer' or modification == 'nk':\n",
    "            apo_identifier = f'AF-{uni_id}-F1-model_v4_Hplus.pdb'\n",
    "            apo_df.loc[index, 'apo_identifier'] = apo_identifier\n",
    "        else:\n",
    "            pass\n",
    "    else:\n",
    "        if modification == 'monomer' or modification == 'nk':\n",
    "            apo_identifier = f'{uni_id}_{mutation}.B99990001.pdb'\n",
    "            apo_df.loc[index, 'apo_identifier'] = apo_identifier\n",
    "        else:\n",
    "            pass\n",
    "    \n",
    "apo_df.to_excel(f'{root_dir}/merged_apo_modified.xlsx', sheet_name='Sheet1', index=False)\n"
   ]
  },
  {
   "cell_type": "code",
   "execution_count": 35,
   "metadata": {},
   "outputs": [
    {
     "name": "stdout",
     "output_type": "stream",
     "text": [
      "KMSSELFTLTYGALVTQLCKDYENDEDVNKQLDKMGFNIGVRLIEDFLARSNVGRCHDFRETADVIAKVAFKMYLGITPSITNWSPAGDEFSLILENNPLVDFVELPDNHSSLIYSNLLCGVLRGALEMVQMAVEAKFVQDTLKGDGVTEIRMRFIRRIED\n"
     ]
    },
    {
     "name": "stderr",
     "output_type": "stream",
     "text": [
      "/Users/liyao/miniconda3/envs/liyao_env/lib/python3.11/site-packages/Bio/PDB/PDBParser.py:395: PDBConstructionWarning: Ignoring unrecognized record 'END' at line 5420\n",
      "  warnings.warn(\n"
     ]
    }
   ],
   "source": [
    "from predataprocess import get_pdb_seq\n",
    "\n",
    "root_dir = '/Users/liyao/Desktop/Tsuda_Lab/Source_code/AI-HDX-main/HDX_MS_dataset/database_collection/feature/structure/Q9Y5R8/AF_TRAPP_1+3+4+6a_revised.pdb'\n",
    "\n",
    "parser = PDB.PDBParser()\n",
    "structure = parser.get_structure('AF_structure', root_dir)\n",
    "sequence, residue_indices = get_pdb_seq(structure, 'B')\n",
    "print(sequence)"
   ]
  },
  {
   "cell_type": "code",
   "execution_count": 6,
   "metadata": {},
   "outputs": [
    {
     "name": "stdout",
     "output_type": "stream",
     "text": [
      "100\n"
     ]
    }
   ],
   "source": [
    "### revise the Hdock model pdb file ###\n",
    "import os\n",
    "protein_name = 'Hdock_DeltaRBD+V16noext'\n",
    "src_path = f'/home/lwang/models/HDX_LSTM/data/COVID_SPIKE/hdock/{protein_name}'\n",
    "dst_path = f'/home/lwang/models/HDX_LSTM/data/COVID_SPIKE/hdock/{protein_name}'\n",
    "\n",
    "pdb_file = [f'model_{i}' for i in range(1, 101)]\n",
    "dst_file = [f'{protein_name}_{i}' for i in range(1, 101)]\n",
    "\n",
    "count =0\n",
    "for src, dst in zip(pdb_file, dst_file):\n",
    "    os.rename(f'{src_path}/{src}.pdb', f'{dst_path}/{dst}.pdb')\n",
    "    count += 1\n",
    "print(count)\n",
    "\n",
    "for pdb in dst_file:\n",
    "    with open(f'{dst_path}/{pdb}.pdb', 'r') as f, open(f'{dst_path}/{pdb}_revised.pdb', 'w') as out:\n",
    "        chain_id = ord('A')  # ASCII value of 'A'\n",
    "        prev_residue_index = None\n",
    "\n",
    "        for line in f:\n",
    "            if line.startswith('ATOM'):\n",
    "                current_residue_index = int(line[22:26].strip())\n",
    "                if prev_residue_index is not None and current_residue_index < prev_residue_index:\n",
    "                    chain_id += 1\n",
    "                    # Ensure that the chain ID doesn't exceed 'Z'\n",
    "                    if chain_id > ord('Z'):\n",
    "                        chain_id = ord('A')\n",
    "\n",
    "                # Replace the chain ID\n",
    "                line = line[:21] + chr(chain_id) + line[22:-1] + ' 1.00  0.00           ' + line[13] + '\\n'\n",
    "                prev_residue_index = current_residue_index\n",
    "            elif line.startswith('HEADER rec.pdb'):\n",
    "                line = line.replace('rec.pdb', f'{pdb}.pdb')\n",
    "            elif line.startswith('HEADER lig') or line.startswith('HETATM') or line.startswith('SHEET') or line.startswith('HELIX') or line.startswith('CONECT'):\n",
    "                continue\n",
    "\n",
    "            out.write(line)"
   ]
  },
  {
   "cell_type": "code",
   "execution_count": 10,
   "metadata": {},
   "outputs": [
    {
     "name": "stdout",
     "output_type": "stream",
     "text": [
      "100\n"
     ]
    }
   ],
   "source": [
    "import os\n",
    "import shutil\n",
    "\n",
    "protein_name = 'Hdock_WuhanRBD+V16noext'\n",
    "fdir = '/home/lwang/models/HDX_LSTM/data/COVID_SPIKE/hhm_files'\n",
    "pdb_file = [f'{protein_name}_{i}_revised' for i in range(1, 101)]\n",
    "count = 0\n",
    "for pdb in pdb_file:\n",
    "    shutil.copyfile(f'{fdir}/wuhan_spikeprotein_A.hhm', f'{fdir}/{pdb}_A.hhm')\n",
    "    shutil.copyfile(f'{fdir}/wuhan_spikeprotein_B.hhm', f'{fdir}/{pdb}_B.hhm')\n",
    "    shutil.copyfile(f'{fdir}/wuhan_spikeprotein_C.hhm', f'{fdir}/{pdb}_C.hhm')\n",
    "    shutil.copyfile(f'{fdir}/Hdock_Wuhan+V16noext_1_revised_D.hhm', f'{fdir}/{pdb}_D.hhm')\n",
    "    shutil.copyfile(f'{fdir}/Hdock_Wuhan+V16noext_1_revised_E.hhm', f'{fdir}/{pdb}_E.hhm')\n",
    "    count += 1\n",
    "print(count)\n"
   ]
  },
  {
   "cell_type": "code",
   "execution_count": 13,
   "metadata": {},
   "outputs": [
    {
     "name": "stdout",
     "output_type": "stream",
     "text": [
      "['Hdock_DeltaRBD+V16noext_1_revised', 'Hdock_DeltaRBD+V16noext_2_revised', 'Hdock_DeltaRBD+V16noext_3_revised', 'Hdock_DeltaRBD+V16noext_4_revised', 'Hdock_DeltaRBD+V16noext_5_revised', 'Hdock_DeltaRBD+V16noext_6_revised', 'Hdock_DeltaRBD+V16noext_7_revised', 'Hdock_DeltaRBD+V16noext_8_revised', 'Hdock_DeltaRBD+V16noext_9_revised', 'Hdock_DeltaRBD+V16noext_10_revised', 'Hdock_DeltaRBD+V16noext_11_revised', 'Hdock_DeltaRBD+V16noext_12_revised', 'Hdock_DeltaRBD+V16noext_13_revised', 'Hdock_DeltaRBD+V16noext_14_revised', 'Hdock_DeltaRBD+V16noext_15_revised', 'Hdock_DeltaRBD+V16noext_16_revised', 'Hdock_DeltaRBD+V16noext_17_revised', 'Hdock_DeltaRBD+V16noext_18_revised', 'Hdock_DeltaRBD+V16noext_19_revised', 'Hdock_DeltaRBD+V16noext_20_revised', 'Hdock_DeltaRBD+V16noext_21_revised', 'Hdock_DeltaRBD+V16noext_22_revised', 'Hdock_DeltaRBD+V16noext_23_revised', 'Hdock_DeltaRBD+V16noext_24_revised', 'Hdock_DeltaRBD+V16noext_25_revised', 'Hdock_DeltaRBD+V16noext_26_revised', 'Hdock_DeltaRBD+V16noext_27_revised', 'Hdock_DeltaRBD+V16noext_28_revised', 'Hdock_DeltaRBD+V16noext_29_revised', 'Hdock_DeltaRBD+V16noext_30_revised', 'Hdock_DeltaRBD+V16noext_31_revised', 'Hdock_DeltaRBD+V16noext_32_revised', 'Hdock_DeltaRBD+V16noext_33_revised', 'Hdock_DeltaRBD+V16noext_34_revised', 'Hdock_DeltaRBD+V16noext_35_revised', 'Hdock_DeltaRBD+V16noext_36_revised', 'Hdock_DeltaRBD+V16noext_37_revised', 'Hdock_DeltaRBD+V16noext_38_revised', 'Hdock_DeltaRBD+V16noext_39_revised', 'Hdock_DeltaRBD+V16noext_40_revised', 'Hdock_DeltaRBD+V16noext_41_revised', 'Hdock_DeltaRBD+V16noext_42_revised', 'Hdock_DeltaRBD+V16noext_43_revised', 'Hdock_DeltaRBD+V16noext_44_revised', 'Hdock_DeltaRBD+V16noext_45_revised', 'Hdock_DeltaRBD+V16noext_46_revised', 'Hdock_DeltaRBD+V16noext_47_revised', 'Hdock_DeltaRBD+V16noext_48_revised', 'Hdock_DeltaRBD+V16noext_49_revised', 'Hdock_DeltaRBD+V16noext_50_revised', 'Hdock_DeltaRBD+V16noext_51_revised', 'Hdock_DeltaRBD+V16noext_52_revised', 'Hdock_DeltaRBD+V16noext_53_revised', 'Hdock_DeltaRBD+V16noext_54_revised', 'Hdock_DeltaRBD+V16noext_55_revised', 'Hdock_DeltaRBD+V16noext_56_revised', 'Hdock_DeltaRBD+V16noext_57_revised', 'Hdock_DeltaRBD+V16noext_58_revised', 'Hdock_DeltaRBD+V16noext_59_revised', 'Hdock_DeltaRBD+V16noext_60_revised', 'Hdock_DeltaRBD+V16noext_61_revised', 'Hdock_DeltaRBD+V16noext_62_revised', 'Hdock_DeltaRBD+V16noext_63_revised', 'Hdock_DeltaRBD+V16noext_64_revised', 'Hdock_DeltaRBD+V16noext_65_revised', 'Hdock_DeltaRBD+V16noext_66_revised', 'Hdock_DeltaRBD+V16noext_67_revised', 'Hdock_DeltaRBD+V16noext_68_revised', 'Hdock_DeltaRBD+V16noext_69_revised', 'Hdock_DeltaRBD+V16noext_70_revised', 'Hdock_DeltaRBD+V16noext_71_revised', 'Hdock_DeltaRBD+V16noext_72_revised', 'Hdock_DeltaRBD+V16noext_73_revised', 'Hdock_DeltaRBD+V16noext_74_revised', 'Hdock_DeltaRBD+V16noext_75_revised', 'Hdock_DeltaRBD+V16noext_76_revised', 'Hdock_DeltaRBD+V16noext_77_revised', 'Hdock_DeltaRBD+V16noext_78_revised', 'Hdock_DeltaRBD+V16noext_79_revised', 'Hdock_DeltaRBD+V16noext_80_revised', 'Hdock_DeltaRBD+V16noext_81_revised', 'Hdock_DeltaRBD+V16noext_82_revised', 'Hdock_DeltaRBD+V16noext_83_revised', 'Hdock_DeltaRBD+V16noext_84_revised', 'Hdock_DeltaRBD+V16noext_85_revised', 'Hdock_DeltaRBD+V16noext_86_revised', 'Hdock_DeltaRBD+V16noext_87_revised', 'Hdock_DeltaRBD+V16noext_88_revised', 'Hdock_DeltaRBD+V16noext_89_revised', 'Hdock_DeltaRBD+V16noext_90_revised', 'Hdock_DeltaRBD+V16noext_91_revised', 'Hdock_DeltaRBD+V16noext_92_revised', 'Hdock_DeltaRBD+V16noext_93_revised', 'Hdock_DeltaRBD+V16noext_94_revised', 'Hdock_DeltaRBD+V16noext_95_revised', 'Hdock_DeltaRBD+V16noext_96_revised', 'Hdock_DeltaRBD+V16noext_97_revised', 'Hdock_DeltaRBD+V16noext_98_revised', 'Hdock_DeltaRBD+V16noext_99_revised', 'Hdock_DeltaRBD+V16noext_100_revised']\n"
     ]
    }
   ],
   "source": [
    "import pandas as pd\n",
    "import os\n",
    "protein_name = 'Hdock_DeltaRBD+V16noext'\n",
    "fpath = '/home/lwang/models/HDX_LSTM/data/COVID_SPIKE/hdock/COVID_Delta.xlsx'\n",
    "\n",
    "df = pd.read_excel(fpath, sheet_name='Sheet1')\n",
    "row1 = df.iloc[-1].copy()\n",
    "#row2 = df.iloc[-1].copy()\n",
    "#row3 = df.iloc[-3].copy()\n",
    "pdb_file = [f'{protein_name}_{i}_revised' for i in range(1, 101)]\n",
    "print(pdb_file)\n",
    "\n",
    "new_rows = []\n",
    "for pdb in pdb_file:\n",
    "    mod_row1 = row1.copy()\n",
    "    #mod_row2 = row2.copy()\n",
    "    #mod_row3 = row3.copy()\n",
    "    mod_row1['apo_identifier'] = pdb\n",
    "    mod_row1['chain_identifier'] = 'C'\n",
    "    #mod_row2['apo_identifier'] = pdb\n",
    "    #mod_row3['apo_identifier'] = pdb\n",
    "    new_rows.extend([mod_row1])\n",
    "\n",
    "df = pd.concat([df, pd.DataFrame(new_rows)], ignore_index=True)\n",
    "df.to_excel(fpath, sheet_name='Sheet1', index=False)\n"
   ]
  },
  {
   "cell_type": "code",
   "execution_count": 2,
   "metadata": {},
   "outputs": [
    {
     "name": "stdout",
     "output_type": "stream",
     "text": [
      "100\n"
     ]
    }
   ],
   "source": [
    "import os\n",
    "import shutil\n",
    "src_path = '/home/lwang/models/HDX_LSTM/data/COVID_SPIKE/hdock/Hdock_WuhanRBD+V16noext'\n",
    "dst_path = '/home/lwang/models/HDX_LSTM/data/COVID_SPIKE/hdock/Hdock_WuhanRBD+V16noext'\n",
    "\n",
    "chain = 'A'\n",
    "pdb_file = [f'Hdock_Wuhan+V16noext_{i}.pdb' for i in range(1, 101)]\n",
    "dst_file = [f'Hdock_WuhanRBD+V16noext_{i}.pdb' for i in range(1, 101)]\n",
    "\n",
    "count =0\n",
    "for src, dst in zip(pdb_file, dst_file):\n",
    "    os.rename(f'{src_path}/{src}', f'{dst_path}/{dst}')\n",
    "    count += 1\n",
    "print(count)\n",
    "\n"
   ]
  },
  {
   "cell_type": "code",
   "execution_count": 4,
   "metadata": {},
   "outputs": [
    {
     "name": "stdout",
     "output_type": "stream",
     "text": [
      "(1, 21)\n",
      "(115, 21)\n"
     ]
    }
   ],
   "source": [
    "import pandas as pd\n",
    "import os\n",
    "\n",
    "fpath = '/home/lwang/models/S3214dataset/myoglobin_record.xlsx'\n",
    "df = pd.read_excel(fpath, sheet_name='Sheet1')\n",
    "print(df.shape)\n",
    "\n",
    "row1 = df.iloc[0].copy()\n",
    "new_rows = []\n",
    "for pdb in os.listdir('/home/lwang/models/S3214dataset/pdbs/myoglobin/1bz6A'):\n",
    "    mod_row1 = row1.copy()\n",
    "    mod_row1['apo_identifier'] = pdb\n",
    "    new_rows.extend([mod_row1])\n",
    "\n",
    "df = pd.concat([df, pd.DataFrame(new_rows)], ignore_index=True)\n",
    "print(df.shape)\n",
    "df.to_excel(fpath, sheet_name='Sheet1', index=False)"
   ]
  }
 ],
 "metadata": {
  "kernelspec": {
   "display_name": "liyao_env",
   "language": "python",
   "name": "python3"
  },
  "language_info": {
   "codemirror_mode": {
    "name": "ipython",
    "version": 3
   },
   "file_extension": ".py",
   "mimetype": "text/x-python",
   "name": "python",
   "nbconvert_exporter": "python",
   "pygments_lexer": "ipython3",
   "version": "3.11.5"
  }
 },
 "nbformat": 4,
 "nbformat_minor": 2
}
